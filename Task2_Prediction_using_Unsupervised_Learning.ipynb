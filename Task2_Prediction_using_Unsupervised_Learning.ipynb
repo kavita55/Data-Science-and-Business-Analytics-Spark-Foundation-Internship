{
  "nbformat": 4,
  "nbformat_minor": 0,
  "metadata": {
    "colab": {
      "name": "Task2 : Prediction using Unsupervised Learning.ipynb",
      "provenance": [],
      "collapsed_sections": [],
      "authorship_tag": "ABX9TyNHisJLfLFSoFXUgiqeuv6W",
      "include_colab_link": true
    },
    "kernelspec": {
      "name": "python3",
      "display_name": "Python 3"
    },
    "language_info": {
      "name": "python"
    }
  },
  "cells": [
    {
      "cell_type": "markdown",
      "metadata": {
        "id": "view-in-github",
        "colab_type": "text"
      },
      "source": [
        "<a href=\"https://colab.research.google.com/github/kavita55/Data-Science-and-Business-Analytics-Spark-Foundation-Internship/blob/main/Task2_Prediction_using_Unsupervised_Learning.ipynb\" target=\"_parent\"><img src=\"https://colab.research.google.com/assets/colab-badge.svg\" alt=\"Open In Colab\"/></a>"
      ]
    },
    {
      "cell_type": "markdown",
      "metadata": {
        "id": "rZdDwsvq6B6I"
      },
      "source": [
        "# **Task 2: Prediction Using Unsupervised ML**\n",
        "\n",
        "## __Author : Kavita  Mali__\n",
        "\n",
        "##### __Objective : From the given ‘Iris’ dataset, predict the optimum number of clusters and represent it visually.__"
      ]
    },
    {
      "cell_type": "markdown",
      "metadata": {
        "id": "vl6eUxzioo_V"
      },
      "source": [
        "## 1. Reading and Understanding the Data"
      ]
    },
    {
      "cell_type": "markdown",
      "metadata": {
        "id": "Z7GkhgiJozgP"
      },
      "source": [
        "#### 1.1 Importing Required Libraries"
      ]
    },
    {
      "cell_type": "code",
      "metadata": {
        "id": "1GAArP0OV70m"
      },
      "source": [
        "# Importing Required libraries\n",
        "import numpy as np\n",
        "import pandas as pd \n",
        "import matplotlib.pyplot as plt\n",
        "import seaborn as sns\n",
        "\n",
        "#Importing clustering libraries\n",
        "import sklearn\n",
        "from sklearn.cluster import KMeans\n",
        "from sklearn.preprocessing import StandardScaler\n",
        "from sklearn.metrics import silhouette_score  "
      ],
      "execution_count": 1,
      "outputs": []
    },
    {
      "cell_type": "markdown",
      "metadata": {
        "id": "7Wd7Vi4Yo6Ho"
      },
      "source": [
        "#### 1.2 Reading the Dataset "
      ]
    },
    {
      "cell_type": "code",
      "metadata": {
        "colab": {
          "base_uri": "https://localhost:8080/",
          "height": 204
        },
        "id": "vL9yhGjQXm7O",
        "outputId": "48c90192-c075-4140-fdc1-107116a31f16"
      },
      "source": [
        "# Importing iris dataset\n",
        "\n",
        "from sklearn import datasets\n",
        "iris = datasets.load_iris()\n",
        "iris_data = pd.DataFrame(iris.data , columns = iris.feature_names)\n",
        "\n",
        "iris_data.head()\n"
      ],
      "execution_count": 2,
      "outputs": [
        {
          "output_type": "execute_result",
          "data": {
            "text/html": [
              "<div>\n",
              "<style scoped>\n",
              "    .dataframe tbody tr th:only-of-type {\n",
              "        vertical-align: middle;\n",
              "    }\n",
              "\n",
              "    .dataframe tbody tr th {\n",
              "        vertical-align: top;\n",
              "    }\n",
              "\n",
              "    .dataframe thead th {\n",
              "        text-align: right;\n",
              "    }\n",
              "</style>\n",
              "<table border=\"1\" class=\"dataframe\">\n",
              "  <thead>\n",
              "    <tr style=\"text-align: right;\">\n",
              "      <th></th>\n",
              "      <th>sepal length (cm)</th>\n",
              "      <th>sepal width (cm)</th>\n",
              "      <th>petal length (cm)</th>\n",
              "      <th>petal width (cm)</th>\n",
              "    </tr>\n",
              "  </thead>\n",
              "  <tbody>\n",
              "    <tr>\n",
              "      <th>0</th>\n",
              "      <td>5.1</td>\n",
              "      <td>3.5</td>\n",
              "      <td>1.4</td>\n",
              "      <td>0.2</td>\n",
              "    </tr>\n",
              "    <tr>\n",
              "      <th>1</th>\n",
              "      <td>4.9</td>\n",
              "      <td>3.0</td>\n",
              "      <td>1.4</td>\n",
              "      <td>0.2</td>\n",
              "    </tr>\n",
              "    <tr>\n",
              "      <th>2</th>\n",
              "      <td>4.7</td>\n",
              "      <td>3.2</td>\n",
              "      <td>1.3</td>\n",
              "      <td>0.2</td>\n",
              "    </tr>\n",
              "    <tr>\n",
              "      <th>3</th>\n",
              "      <td>4.6</td>\n",
              "      <td>3.1</td>\n",
              "      <td>1.5</td>\n",
              "      <td>0.2</td>\n",
              "    </tr>\n",
              "    <tr>\n",
              "      <th>4</th>\n",
              "      <td>5.0</td>\n",
              "      <td>3.6</td>\n",
              "      <td>1.4</td>\n",
              "      <td>0.2</td>\n",
              "    </tr>\n",
              "  </tbody>\n",
              "</table>\n",
              "</div>"
            ],
            "text/plain": [
              "   sepal length (cm)  sepal width (cm)  petal length (cm)  petal width (cm)\n",
              "0                5.1               3.5                1.4               0.2\n",
              "1                4.9               3.0                1.4               0.2\n",
              "2                4.7               3.2                1.3               0.2\n",
              "3                4.6               3.1                1.5               0.2\n",
              "4                5.0               3.6                1.4               0.2"
            ]
          },
          "metadata": {
            "tags": []
          },
          "execution_count": 2
        }
      ]
    },
    {
      "cell_type": "code",
      "metadata": {
        "colab": {
          "base_uri": "https://localhost:8080/"
        },
        "id": "d6c_qm8UYF2l",
        "outputId": "072950e1-d92d-4024-b228-77e9f410c002"
      },
      "source": [
        "#Checking the shape of the dataset\n",
        "iris_data.shape"
      ],
      "execution_count": 3,
      "outputs": [
        {
          "output_type": "execute_result",
          "data": {
            "text/plain": [
              "(150, 4)"
            ]
          },
          "metadata": {
            "tags": []
          },
          "execution_count": 3
        }
      ]
    },
    {
      "cell_type": "code",
      "metadata": {
        "colab": {
          "base_uri": "https://localhost:8080/"
        },
        "id": "PxL2XmN3YKxk",
        "outputId": "3e60c638-127f-4af2-b643-fe64c8867824"
      },
      "source": [
        "#Checking summary of the dataset\n",
        "iris_data.info()"
      ],
      "execution_count": 4,
      "outputs": [
        {
          "output_type": "stream",
          "text": [
            "<class 'pandas.core.frame.DataFrame'>\n",
            "RangeIndex: 150 entries, 0 to 149\n",
            "Data columns (total 4 columns):\n",
            " #   Column             Non-Null Count  Dtype  \n",
            "---  ------             --------------  -----  \n",
            " 0   sepal length (cm)  150 non-null    float64\n",
            " 1   sepal width (cm)   150 non-null    float64\n",
            " 2   petal length (cm)  150 non-null    float64\n",
            " 3   petal width (cm)   150 non-null    float64\n",
            "dtypes: float64(4)\n",
            "memory usage: 4.8 KB\n"
          ],
          "name": "stdout"
        }
      ]
    },
    {
      "cell_type": "code",
      "metadata": {
        "colab": {
          "base_uri": "https://localhost:8080/",
          "height": 297
        },
        "id": "4SzQpE1AYSll",
        "outputId": "99c6a340-7a55-4ed3-baa9-24229a5e4437"
      },
      "source": [
        "#Check statistical summary of dataset\n",
        "iris_data.describe()"
      ],
      "execution_count": 5,
      "outputs": [
        {
          "output_type": "execute_result",
          "data": {
            "text/html": [
              "<div>\n",
              "<style scoped>\n",
              "    .dataframe tbody tr th:only-of-type {\n",
              "        vertical-align: middle;\n",
              "    }\n",
              "\n",
              "    .dataframe tbody tr th {\n",
              "        vertical-align: top;\n",
              "    }\n",
              "\n",
              "    .dataframe thead th {\n",
              "        text-align: right;\n",
              "    }\n",
              "</style>\n",
              "<table border=\"1\" class=\"dataframe\">\n",
              "  <thead>\n",
              "    <tr style=\"text-align: right;\">\n",
              "      <th></th>\n",
              "      <th>sepal length (cm)</th>\n",
              "      <th>sepal width (cm)</th>\n",
              "      <th>petal length (cm)</th>\n",
              "      <th>petal width (cm)</th>\n",
              "    </tr>\n",
              "  </thead>\n",
              "  <tbody>\n",
              "    <tr>\n",
              "      <th>count</th>\n",
              "      <td>150.000000</td>\n",
              "      <td>150.000000</td>\n",
              "      <td>150.000000</td>\n",
              "      <td>150.000000</td>\n",
              "    </tr>\n",
              "    <tr>\n",
              "      <th>mean</th>\n",
              "      <td>5.843333</td>\n",
              "      <td>3.057333</td>\n",
              "      <td>3.758000</td>\n",
              "      <td>1.199333</td>\n",
              "    </tr>\n",
              "    <tr>\n",
              "      <th>std</th>\n",
              "      <td>0.828066</td>\n",
              "      <td>0.435866</td>\n",
              "      <td>1.765298</td>\n",
              "      <td>0.762238</td>\n",
              "    </tr>\n",
              "    <tr>\n",
              "      <th>min</th>\n",
              "      <td>4.300000</td>\n",
              "      <td>2.000000</td>\n",
              "      <td>1.000000</td>\n",
              "      <td>0.100000</td>\n",
              "    </tr>\n",
              "    <tr>\n",
              "      <th>25%</th>\n",
              "      <td>5.100000</td>\n",
              "      <td>2.800000</td>\n",
              "      <td>1.600000</td>\n",
              "      <td>0.300000</td>\n",
              "    </tr>\n",
              "    <tr>\n",
              "      <th>50%</th>\n",
              "      <td>5.800000</td>\n",
              "      <td>3.000000</td>\n",
              "      <td>4.350000</td>\n",
              "      <td>1.300000</td>\n",
              "    </tr>\n",
              "    <tr>\n",
              "      <th>75%</th>\n",
              "      <td>6.400000</td>\n",
              "      <td>3.300000</td>\n",
              "      <td>5.100000</td>\n",
              "      <td>1.800000</td>\n",
              "    </tr>\n",
              "    <tr>\n",
              "      <th>max</th>\n",
              "      <td>7.900000</td>\n",
              "      <td>4.400000</td>\n",
              "      <td>6.900000</td>\n",
              "      <td>2.500000</td>\n",
              "    </tr>\n",
              "  </tbody>\n",
              "</table>\n",
              "</div>"
            ],
            "text/plain": [
              "       sepal length (cm)  sepal width (cm)  petal length (cm)  petal width (cm)\n",
              "count         150.000000        150.000000         150.000000        150.000000\n",
              "mean            5.843333          3.057333           3.758000          1.199333\n",
              "std             0.828066          0.435866           1.765298          0.762238\n",
              "min             4.300000          2.000000           1.000000          0.100000\n",
              "25%             5.100000          2.800000           1.600000          0.300000\n",
              "50%             5.800000          3.000000           4.350000          1.300000\n",
              "75%             6.400000          3.300000           5.100000          1.800000\n",
              "max             7.900000          4.400000           6.900000          2.500000"
            ]
          },
          "metadata": {
            "tags": []
          },
          "execution_count": 5
        }
      ]
    },
    {
      "cell_type": "markdown",
      "metadata": {
        "id": "OXczo7r1XHyS"
      },
      "source": [
        "# 2. Defining function for Hopkins Score "
      ]
    },
    {
      "cell_type": "code",
      "metadata": {
        "id": "J6Fy14NYYaBr"
      },
      "source": [
        "## Checking if the data is feasible for clustering\n",
        "\n",
        "from sklearn.neighbors import NearestNeighbors\n",
        "from random import sample\n",
        "from numpy.random import uniform\n",
        "import numpy as np\n",
        "from math import isnan\n",
        " \n",
        "def hopkins(X):\n",
        "    d = X.shape[1]\n",
        "    #d = len(vars) # columns\n",
        "    n = len(X) # rows\n",
        "    m = int(0.1 * n) \n",
        "    nbrs = NearestNeighbors(n_neighbors=1).fit(X.values)\n",
        " \n",
        "    rand_X = sample(range(0, n, 1), m)\n",
        " \n",
        "    ujd = []\n",
        "    wjd = []\n",
        "    for j in range(0, m):\n",
        "        u_dist, _ = nbrs.kneighbors(uniform(np.amin(X,axis=0),np.amax(X,axis=0),d).reshape(1, -1), 2, return_distance=True)\n",
        "        ujd.append(u_dist[0][1])\n",
        "        w_dist, _ = nbrs.kneighbors(X.iloc[rand_X[j]].values.reshape(1, -1), 2, return_distance=True)\n",
        "        wjd.append(w_dist[0][1])\n",
        " \n",
        "    H = sum(ujd) / (sum(ujd) + sum(wjd))\n",
        "    if isnan(H):\n",
        "        print(ujd, wjd)\n",
        "        H = 0\n",
        " \n",
        "    return H"
      ],
      "execution_count": 6,
      "outputs": []
    },
    {
      "cell_type": "markdown",
      "metadata": {
        "id": "Hkm7pALGXSi3"
      },
      "source": [
        "- Checking Hopkins score for iris dataset and check whether it is feasible for clustering or not."
      ]
    },
    {
      "cell_type": "code",
      "metadata": {
        "colab": {
          "base_uri": "https://localhost:8080/"
        },
        "id": "V7dGUwLVZH6y",
        "outputId": "7d980520-1d61-4afd-a877-e61b6fe59d48"
      },
      "source": [
        "# Using the function check hopkins statistic for the data\n",
        "print(hopkins(iris_data))"
      ],
      "execution_count": 7,
      "outputs": [
        {
          "output_type": "stream",
          "text": [
            "0.8413048710437123\n"
          ],
          "name": "stdout"
        }
      ]
    },
    {
      "cell_type": "markdown",
      "metadata": {
        "id": "VKLAIB3RZUuu"
      },
      "source": [
        "We can proceed with clustering as the hokins statistic is good."
      ]
    },
    {
      "cell_type": "markdown",
      "metadata": {
        "id": "ThwT1sw5Zet_"
      },
      "source": [
        "# 3. Rescaling the variables"
      ]
    },
    {
      "cell_type": "code",
      "metadata": {
        "colab": {
          "base_uri": "https://localhost:8080/"
        },
        "id": "-gElJgNwZRWb",
        "outputId": "be9c9b92-d20f-436c-af31-3e460bbb1df0"
      },
      "source": [
        "scaler = StandardScaler() #instantiate\n",
        "\n",
        "#Fit_transform the data\n",
        "iris_scaled = scaler.fit_transform(iris_data)\n",
        "\n",
        "iris_scaled.shape"
      ],
      "execution_count": 8,
      "outputs": [
        {
          "output_type": "execute_result",
          "data": {
            "text/plain": [
              "(150, 4)"
            ]
          },
          "metadata": {
            "tags": []
          },
          "execution_count": 8
        }
      ]
    },
    {
      "cell_type": "markdown",
      "metadata": {
        "id": "2NrBzhaOXiPG"
      },
      "source": [
        "- Creating new dataframe with Scales variables"
      ]
    },
    {
      "cell_type": "code",
      "metadata": {
        "colab": {
          "base_uri": "https://localhost:8080/",
          "height": 204
        },
        "id": "OWjG9jbLaC6E",
        "outputId": "df929720-a347-4c55-ef4d-44e3f354df92"
      },
      "source": [
        "#creating dataframe for the scaled variables\n",
        "iris_scaled = pd.DataFrame(iris_scaled)\n",
        "iris_scaled.columns = iris_data.columns\n",
        "iris_scaled.head()"
      ],
      "execution_count": 9,
      "outputs": [
        {
          "output_type": "execute_result",
          "data": {
            "text/html": [
              "<div>\n",
              "<style scoped>\n",
              "    .dataframe tbody tr th:only-of-type {\n",
              "        vertical-align: middle;\n",
              "    }\n",
              "\n",
              "    .dataframe tbody tr th {\n",
              "        vertical-align: top;\n",
              "    }\n",
              "\n",
              "    .dataframe thead th {\n",
              "        text-align: right;\n",
              "    }\n",
              "</style>\n",
              "<table border=\"1\" class=\"dataframe\">\n",
              "  <thead>\n",
              "    <tr style=\"text-align: right;\">\n",
              "      <th></th>\n",
              "      <th>sepal length (cm)</th>\n",
              "      <th>sepal width (cm)</th>\n",
              "      <th>petal length (cm)</th>\n",
              "      <th>petal width (cm)</th>\n",
              "    </tr>\n",
              "  </thead>\n",
              "  <tbody>\n",
              "    <tr>\n",
              "      <th>0</th>\n",
              "      <td>-0.900681</td>\n",
              "      <td>1.019004</td>\n",
              "      <td>-1.340227</td>\n",
              "      <td>-1.315444</td>\n",
              "    </tr>\n",
              "    <tr>\n",
              "      <th>1</th>\n",
              "      <td>-1.143017</td>\n",
              "      <td>-0.131979</td>\n",
              "      <td>-1.340227</td>\n",
              "      <td>-1.315444</td>\n",
              "    </tr>\n",
              "    <tr>\n",
              "      <th>2</th>\n",
              "      <td>-1.385353</td>\n",
              "      <td>0.328414</td>\n",
              "      <td>-1.397064</td>\n",
              "      <td>-1.315444</td>\n",
              "    </tr>\n",
              "    <tr>\n",
              "      <th>3</th>\n",
              "      <td>-1.506521</td>\n",
              "      <td>0.098217</td>\n",
              "      <td>-1.283389</td>\n",
              "      <td>-1.315444</td>\n",
              "    </tr>\n",
              "    <tr>\n",
              "      <th>4</th>\n",
              "      <td>-1.021849</td>\n",
              "      <td>1.249201</td>\n",
              "      <td>-1.340227</td>\n",
              "      <td>-1.315444</td>\n",
              "    </tr>\n",
              "  </tbody>\n",
              "</table>\n",
              "</div>"
            ],
            "text/plain": [
              "   sepal length (cm)  sepal width (cm)  petal length (cm)  petal width (cm)\n",
              "0          -0.900681          1.019004          -1.340227         -1.315444\n",
              "1          -1.143017         -0.131979          -1.340227         -1.315444\n",
              "2          -1.385353          0.328414          -1.397064         -1.315444\n",
              "3          -1.506521          0.098217          -1.283389         -1.315444\n",
              "4          -1.021849          1.249201          -1.340227         -1.315444"
            ]
          },
          "metadata": {
            "tags": []
          },
          "execution_count": 9
        }
      ]
    },
    {
      "cell_type": "markdown",
      "metadata": {
        "id": "-Vk-kp2sax-n"
      },
      "source": [
        "# 4. Modelling"
      ]
    },
    {
      "cell_type": "markdown",
      "metadata": {
        "id": "TlbIozeba96o"
      },
      "source": [
        "> ## 4.1 Find optimal number of customers\n",
        "\n",
        ">> 4.1.2. Silhouette Analysis"
      ]
    },
    {
      "cell_type": "code",
      "metadata": {
        "colab": {
          "base_uri": "https://localhost:8080/"
        },
        "id": "R5CT2RI9amqO",
        "outputId": "f46618d3-efb1-4180-8671-58189349f6d3"
      },
      "source": [
        "range_n_clusters = [2,3,4,5,6,7,8]\n",
        "\n",
        "for num in range_n_clusters:\n",
        "\n",
        "  #initialise kmeans\n",
        "  kmeans = KMeans(n_clusters = num, max_iter = 50 )\n",
        "  kmeans.fit(iris_scaled)\n",
        "\n",
        "  cluster_labels = kmeans.labels_\n",
        "\n",
        "  #silhouette score\n",
        "  silhouette_avg = silhouette_score(iris_scaled , cluster_labels)\n",
        "  print(\"For n_clusters = {0}, the silhouette score is {1}\".format(num , silhouette_avg))"
      ],
      "execution_count": 10,
      "outputs": [
        {
          "output_type": "stream",
          "text": [
            "For n_clusters = 2, the silhouette score is 0.5817500491982808\n",
            "For n_clusters = 3, the silhouette score is 0.45994823920518635\n",
            "For n_clusters = 4, the silhouette score is 0.38694104154427816\n",
            "For n_clusters = 5, the silhouette score is 0.3438082743166464\n",
            "For n_clusters = 6, the silhouette score is 0.33264222832384166\n",
            "For n_clusters = 7, the silhouette score is 0.3250205942792502\n",
            "For n_clusters = 8, the silhouette score is 0.3381185097132004\n"
          ],
          "name": "stdout"
        }
      ]
    },
    {
      "cell_type": "markdown",
      "metadata": {
        "id": "3ufW3MLbcLHU"
      },
      "source": [
        ">> 4.1.2. Elbow Curve / SSD\n",
        "\n",
        "\n",
        "\n"
      ]
    },
    {
      "cell_type": "code",
      "metadata": {
        "colab": {
          "base_uri": "https://localhost:8080/",
          "height": 282
        },
        "id": "d-b_vYwebNdA",
        "outputId": "354d8cb1-72d3-48e6-f9f6-fc2161fa485a"
      },
      "source": [
        "ssd = []\n",
        "range_n_clusters = [2,3,4,5,6,7,8]\n",
        "for num in range_n_clusters:\n",
        "  kmeans = KMeans(n_clusters = num , max_iter = 50)\n",
        "  kmeans.fit(iris_scaled)\n",
        "\n",
        "  ssd.append(kmeans.inertia_)\n",
        "\n",
        "#Plot SSD\n",
        "plt.plot(ssd)"
      ],
      "execution_count": 11,
      "outputs": [
        {
          "output_type": "execute_result",
          "data": {
            "text/plain": [
              "[<matplotlib.lines.Line2D at 0x7f9974bcaf90>]"
            ]
          },
          "metadata": {
            "tags": []
          },
          "execution_count": 11
        },
        {
          "output_type": "display_data",
          "data": {
            "image/png": "[encoded data removed]",
            "text/plain": [
              "<Figure size 432x288 with 1 Axes>"
            ]
          },
          "metadata": {
            "tags": [],
            "needs_background": "light"
          }
        }
      ]
    },
    {
      "cell_type": "markdown",
      "metadata": {
        "id": "rZcoPjVBc6Ih"
      },
      "source": [
        "- from above we can conclude that 3 clusters will be enough\n"
      ]
    },
    {
      "cell_type": "markdown",
      "metadata": {
        "id": "yPJw65XLXy0H"
      },
      "source": [
        "- Clustering with 3 clusters"
      ]
    },
    {
      "cell_type": "code",
      "metadata": {
        "colab": {
          "base_uri": "https://localhost:8080/"
        },
        "id": "Ob8hYuRPc4Z1",
        "outputId": "0db375bd-e3ef-44d2-d9f6-b6ba4205e90d"
      },
      "source": [
        "#Final model with k = 3\n",
        "kmeans = KMeans(n_clusters= 3, max_iter = 50)\n",
        "kmeans.fit_predict(iris_scaled)\n"
      ],
      "execution_count": 12,
      "outputs": [
        {
          "output_type": "execute_result",
          "data": {
            "text/plain": [
              "array([2, 2, 2, 2, 2, 2, 2, 2, 2, 2, 2, 2, 2, 2, 2, 2, 2, 2, 2, 2, 2, 2,\n",
              "       2, 2, 2, 2, 2, 2, 2, 2, 2, 2, 2, 2, 2, 2, 2, 2, 2, 2, 2, 2, 2, 2,\n",
              "       2, 2, 2, 2, 2, 2, 0, 0, 0, 1, 1, 1, 0, 1, 1, 1, 1, 1, 1, 1, 1, 0,\n",
              "       1, 1, 1, 1, 0, 1, 1, 1, 1, 0, 0, 0, 1, 1, 1, 1, 1, 1, 1, 0, 0, 1,\n",
              "       1, 1, 1, 1, 1, 1, 1, 1, 1, 1, 1, 1, 0, 1, 0, 0, 0, 0, 1, 0, 0, 0,\n",
              "       0, 0, 0, 1, 1, 0, 0, 0, 0, 1, 0, 1, 0, 1, 0, 0, 1, 0, 0, 0, 0, 0,\n",
              "       0, 1, 1, 0, 0, 0, 1, 0, 0, 0, 1, 0, 0, 0, 1, 0, 0, 1], dtype=int32)"
            ]
          },
          "metadata": {
            "tags": []
          },
          "execution_count": 12
        }
      ]
    },
    {
      "cell_type": "code",
      "metadata": {
        "colab": {
          "base_uri": "https://localhost:8080/"
        },
        "id": "NftnIBtmYJbn",
        "outputId": "07c08dcf-1056-4c95-9f6b-45875a458cde"
      },
      "source": [
        "kmeans.labels_"
      ],
      "execution_count": 13,
      "outputs": [
        {
          "output_type": "execute_result",
          "data": {
            "text/plain": [
              "array([2, 2, 2, 2, 2, 2, 2, 2, 2, 2, 2, 2, 2, 2, 2, 2, 2, 2, 2, 2, 2, 2,\n",
              "       2, 2, 2, 2, 2, 2, 2, 2, 2, 2, 2, 2, 2, 2, 2, 2, 2, 2, 2, 2, 2, 2,\n",
              "       2, 2, 2, 2, 2, 2, 0, 0, 0, 1, 1, 1, 0, 1, 1, 1, 1, 1, 1, 1, 1, 0,\n",
              "       1, 1, 1, 1, 0, 1, 1, 1, 1, 0, 0, 0, 1, 1, 1, 1, 1, 1, 1, 0, 0, 1,\n",
              "       1, 1, 1, 1, 1, 1, 1, 1, 1, 1, 1, 1, 0, 1, 0, 0, 0, 0, 1, 0, 0, 0,\n",
              "       0, 0, 0, 1, 1, 0, 0, 0, 0, 1, 0, 1, 0, 1, 0, 0, 1, 0, 0, 0, 0, 0,\n",
              "       0, 1, 1, 0, 0, 0, 1, 0, 0, 0, 1, 0, 0, 0, 1, 0, 0, 1], dtype=int32)"
            ]
          },
          "metadata": {
            "tags": []
          },
          "execution_count": 13
        }
      ]
    },
    {
      "cell_type": "code",
      "metadata": {
        "colab": {
          "base_uri": "https://localhost:8080/",
          "height": 204
        },
        "id": "23aHuuiNdUSb",
        "outputId": "ec707ded-5f1d-4ae0-9558-920583e040b3"
      },
      "source": [
        "#Assigning the values to dataframe\n",
        "iris_data['cluster_labels'] = kmeans.labels_\n",
        "iris_data.head()"
      ],
      "execution_count": 14,
      "outputs": [
        {
          "output_type": "execute_result",
          "data": {
            "text/html": [
              "<div>\n",
              "<style scoped>\n",
              "    .dataframe tbody tr th:only-of-type {\n",
              "        vertical-align: middle;\n",
              "    }\n",
              "\n",
              "    .dataframe tbody tr th {\n",
              "        vertical-align: top;\n",
              "    }\n",
              "\n",
              "    .dataframe thead th {\n",
              "        text-align: right;\n",
              "    }\n",
              "</style>\n",
              "<table border=\"1\" class=\"dataframe\">\n",
              "  <thead>\n",
              "    <tr style=\"text-align: right;\">\n",
              "      <th></th>\n",
              "      <th>sepal length (cm)</th>\n",
              "      <th>sepal width (cm)</th>\n",
              "      <th>petal length (cm)</th>\n",
              "      <th>petal width (cm)</th>\n",
              "      <th>cluster_labels</th>\n",
              "    </tr>\n",
              "  </thead>\n",
              "  <tbody>\n",
              "    <tr>\n",
              "      <th>0</th>\n",
              "      <td>5.1</td>\n",
              "      <td>3.5</td>\n",
              "      <td>1.4</td>\n",
              "      <td>0.2</td>\n",
              "      <td>2</td>\n",
              "    </tr>\n",
              "    <tr>\n",
              "      <th>1</th>\n",
              "      <td>4.9</td>\n",
              "      <td>3.0</td>\n",
              "      <td>1.4</td>\n",
              "      <td>0.2</td>\n",
              "      <td>2</td>\n",
              "    </tr>\n",
              "    <tr>\n",
              "      <th>2</th>\n",
              "      <td>4.7</td>\n",
              "      <td>3.2</td>\n",
              "      <td>1.3</td>\n",
              "      <td>0.2</td>\n",
              "      <td>2</td>\n",
              "    </tr>\n",
              "    <tr>\n",
              "      <th>3</th>\n",
              "      <td>4.6</td>\n",
              "      <td>3.1</td>\n",
              "      <td>1.5</td>\n",
              "      <td>0.2</td>\n",
              "      <td>2</td>\n",
              "    </tr>\n",
              "    <tr>\n",
              "      <th>4</th>\n",
              "      <td>5.0</td>\n",
              "      <td>3.6</td>\n",
              "      <td>1.4</td>\n",
              "      <td>0.2</td>\n",
              "      <td>2</td>\n",
              "    </tr>\n",
              "  </tbody>\n",
              "</table>\n",
              "</div>"
            ],
            "text/plain": [
              "   sepal length (cm)  sepal width (cm)  ...  petal width (cm)  cluster_labels\n",
              "0                5.1               3.5  ...               0.2               2\n",
              "1                4.9               3.0  ...               0.2               2\n",
              "2                4.7               3.2  ...               0.2               2\n",
              "3                4.6               3.1  ...               0.2               2\n",
              "4                5.0               3.6  ...               0.2               2\n",
              "\n",
              "[5 rows x 5 columns]"
            ]
          },
          "metadata": {
            "tags": []
          },
          "execution_count": 14
        }
      ]
    },
    {
      "cell_type": "markdown",
      "metadata": {
        "id": "8PeGkFl3X9ed"
      },
      "source": [
        "# 5. Visualization of model"
      ]
    },
    {
      "cell_type": "markdown",
      "metadata": {
        "id": "2r-5uKxoYCbq"
      },
      "source": [
        "> #### 5.1 Visualizing each column with Boxplot"
      ]
    },
    {
      "cell_type": "code",
      "metadata": {
        "colab": {
          "base_uri": "https://localhost:8080/",
          "height": 1000
        },
        "id": "zA7IchOAdmgZ",
        "outputId": "3a72f1cc-7e77-4014-8486-988eef6af3f9"
      },
      "source": [
        "# Lets visualize clusters with every column\n",
        "\n",
        "plt.figure(figsize = (10,16))\n",
        "\n",
        "#Boxplot for Sepal length(cm)\n",
        "plt.subplot(4,1,1)                          # creating subplots\n",
        "plt.title('sepal length (cm)',fontsize=25)   # Adding and formatting title\n",
        "sns.boxplot(x = iris_data['cluster_labels'], y=iris_data['sepal length (cm)'],palette='gist_heat',orient='v',fliersize=5)\n",
        "\n",
        "#Boxplot for sepal width\n",
        "plt.subplot(4,1,2)                         # creating subplots\n",
        "plt.title('sepal width (cm)',fontsize=25)           # Adding and formatting title\n",
        "sns.boxplot(x = iris_data['cluster_labels'], y = iris_data['sepal width (cm)'],palette='gist_heat',orient='v',fliersize=5)\n",
        "\n",
        "#Boxplot for petal width\n",
        "plt.subplot(4,1,3)                           # creating subplots\n",
        "plt.title('petal length (cm)',fontsize=25)     # Adding and formatting title\n",
        "sns.boxplot(x = iris_data['cluster_labels'], y = iris_data['petal length (cm)'],palette='gist_heat',orient='v',fliersize=5)\n",
        "\n",
        "#Boxplot for petal length\n",
        "plt.subplot(4,1,4)                           # creating subplots\n",
        "plt.title('petal width (cm)',fontsize=25)     # Adding and formatting title\n",
        "sns.boxplot(x = iris_data['cluster_labels'], y = iris_data['petal width (cm)'],palette='gist_heat',orient='v',fliersize=5)\n",
        "\n",
        "plt.tight_layout()                     \n",
        "plt.show()\n",
        "\n"
      ],
      "execution_count": 15,
      "outputs": [
        {
          "output_type": "display_data",
          "data": {
            "image/png": "[encoded data removed]",
            "text/plain": [
              "<Figure size 720x1152 with 4 Axes>"
            ]
          },
          "metadata": {
            "tags": [],
            "needs_background": "light"
          }
        }
      ]
    },
    {
      "cell_type": "markdown",
      "metadata": {
        "id": "usC0eGMQ_0L-"
      },
      "source": [
        " __Inferences__ :\n",
        "- Cluster 0  have larger petal width ,larger petal length, larger sepal length and average sepal width. So from this observation we can conclude that this species is Iris-versicolour.\n",
        "- Cluster 1 have average petal length, petal width and sepal length, lower sepal width . So from this observation we can conclude that this species is Iris-setosa.\n",
        "- Cluster 2 have lower petal width, petal length and sepal length ,larger sepal width. So from this observation we can conclude that this species is Iris-virginica."
      ]
    },
    {
      "cell_type": "markdown",
      "metadata": {
        "id": "PY13WjocXCB9"
      },
      "source": [
        "> #### 5.2 Visualization with Scatterplot"
      ]
    },
    {
      "cell_type": "code",
      "metadata": {
        "id": "VM7ZrMKibu_2",
        "colab": {
          "base_uri": "https://localhost:8080/",
          "height": 374
        },
        "outputId": "7c6b32c5-15c6-44a4-b430-29ece07c7e58"
      },
      "source": [
        "# sns.scatterplot( iris_data[ : , 0] , iris_data[: , 1]  , cmap = 'rainbow' , data= iris_data ,label = 'Iris-setosa')\n",
        "plt.figure( figsize = (8,6))\n",
        "           \n",
        "plt.scatter( iris_data[ cluster_labels == 0 ,0]  ,iris_data[ cluster_labels == 0 ,1], label = 'Iris-versicolour',s=100)\n",
        "plt.scatter( iris_data[ cluster_labels == 1 ,0]  ,iris_data[ cluster_labels == 1 ,1], label = 'Iris-setosa',s=100 )\n",
        "plt.scatter( iris_data[ cluster_labels == 2 ,0]  ,iris_data[ cluster_labels == 2 ,1], label = 'Iris-virginica',s=100 )\n",
        "\n",
        "plt.legend()\n",
        "plt.show()"
      ],
      "execution_count": 29,
      "outputs": [
        {
          "output_type": "display_data",
          "data": {
            "image/png": "[encoded data removed]",
            "text/plain": [
              "<Figure size 576x432 with 1 Axes>"
            ]
          },
          "metadata": {
            "tags": [],
            "needs_background": "light"
          }
        }
      ]
    }
  ]
}