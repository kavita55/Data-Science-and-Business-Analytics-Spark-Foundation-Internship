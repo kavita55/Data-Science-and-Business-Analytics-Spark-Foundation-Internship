{
  "nbformat": 4,
  "nbformat_minor": 0,
  "metadata": {
    "colab": {
      "name": "Task1 : Prediction using Supervised ML.ipynb",
      "provenance": [],
      "collapsed_sections": [],
      "authorship_tag": "ABX9TyMKbpEM/GJ1NSVRGDvF0YcR",
      "include_colab_link": true
    },
    "kernelspec": {
      "name": "python3",
      "display_name": "Python 3"
    },
    "language_info": {
      "name": "python"
    }
  },
  "cells": [
    {
      "cell_type": "markdown",
      "metadata": {
        "id": "view-in-github",
        "colab_type": "text"
      },
      "source": [
        "<a href=\"https://colab.research.google.com/github/kavita55/Data-Science-and-Business-Analytics-Spark-Foundation-Internship/blob/main/Task1_Prediction_using_Supervised_ML.ipynb\" target=\"_parent\"><img src=\"https://colab.research.google.com/assets/colab-badge.svg\" alt=\"Open In Colab\"/></a>"
      ]
    },
    {
      "cell_type": "markdown",
      "metadata": {
        "id": "Cr4J7bzoghG-"
      },
      "source": [
        "# **Task 1: Prediction Using Supervised ML**\n",
        "\n",
        "## __Author : Kavita  Mali__\n",
        "\n",
        "##### __Objective : To predict the percentage of an student based on the no. of study hours.__"
      ]
    },
    {
      "cell_type": "markdown",
      "metadata": {
        "id": "GLkhRcl7m8aU"
      },
      "source": [
        "- This is a simple linear regression task as it involves just 2 variables."
      ]
    },
    {
      "cell_type": "markdown",
      "metadata": {
        "id": "vl6eUxzioo_V"
      },
      "source": [
        "## 1. Reading and Understanding the Data"
      ]
    },
    {
      "cell_type": "markdown",
      "metadata": {
        "id": "Z7GkhgiJozgP"
      },
      "source": [
        "#### 1.1 Importing Required Libraries"
      ]
    },
    {
      "cell_type": "code",
      "metadata": {
        "id": "OL9AuySHfzxK"
      },
      "source": [
        "#Importing required libraries\n",
        "import numpy as np\n",
        "import pandas as pd\n",
        "import matplotlib.pyplot as plt\n",
        "import seaborn as sns\n",
        "\n",
        "# import library to supress warnings\n",
        "import warnings\n",
        "warnings.filterwarnings('ignore')"
      ],
      "execution_count": null,
      "outputs": []
    },
    {
      "cell_type": "markdown",
      "metadata": {
        "id": "7Wd7Vi4Yo6Ho"
      },
      "source": [
        "#### 1.2 Reading the Dataset "
      ]
    },
    {
      "cell_type": "code",
      "metadata": {
        "colab": {
          "base_uri": "https://localhost:8080/",
          "height": 204
        },
        "id": "PnLP1h12l36s",
        "outputId": "797e4dba-21f9-4797-db80-453dbbbe1e0f"
      },
      "source": [
        "#Loading dataset\n",
        "data_score = pd.read_csv(\"http://bit.ly/w-data\")\n",
        "data_score.head()"
      ],
      "execution_count": null,
      "outputs": [
        {
          "output_type": "execute_result",
          "data": {
            "text/html": [
              "<div>\n",
              "<style scoped>\n",
              "    .dataframe tbody tr th:only-of-type {\n",
              "        vertical-align: middle;\n",
              "    }\n",
              "\n",
              "    .dataframe tbody tr th {\n",
              "        vertical-align: top;\n",
              "    }\n",
              "\n",
              "    .dataframe thead th {\n",
              "        text-align: right;\n",
              "    }\n",
              "</style>\n",
              "<table border=\"1\" class=\"dataframe\">\n",
              "  <thead>\n",
              "    <tr style=\"text-align: right;\">\n",
              "      <th></th>\n",
              "      <th>Hours</th>\n",
              "      <th>Scores</th>\n",
              "    </tr>\n",
              "  </thead>\n",
              "  <tbody>\n",
              "    <tr>\n",
              "      <th>0</th>\n",
              "      <td>2.5</td>\n",
              "      <td>21</td>\n",
              "    </tr>\n",
              "    <tr>\n",
              "      <th>1</th>\n",
              "      <td>5.1</td>\n",
              "      <td>47</td>\n",
              "    </tr>\n",
              "    <tr>\n",
              "      <th>2</th>\n",
              "      <td>3.2</td>\n",
              "      <td>27</td>\n",
              "    </tr>\n",
              "    <tr>\n",
              "      <th>3</th>\n",
              "      <td>8.5</td>\n",
              "      <td>75</td>\n",
              "    </tr>\n",
              "    <tr>\n",
              "      <th>4</th>\n",
              "      <td>3.5</td>\n",
              "      <td>30</td>\n",
              "    </tr>\n",
              "  </tbody>\n",
              "</table>\n",
              "</div>"
            ],
            "text/plain": [
              "   Hours  Scores\n",
              "0    2.5      21\n",
              "1    5.1      47\n",
              "2    3.2      27\n",
              "3    8.5      75\n",
              "4    3.5      30"
            ]
          },
          "metadata": {
            "tags": []
          },
          "execution_count": 2
        }
      ]
    },
    {
      "cell_type": "code",
      "metadata": {
        "colab": {
          "base_uri": "https://localhost:8080/"
        },
        "id": "9FmJvswPmFPa",
        "outputId": "e43b6f0f-dd02-42c0-8b67-262046958a89"
      },
      "source": [
        "#Checking the shape of the dataset\n",
        "data_score.shape"
      ],
      "execution_count": null,
      "outputs": [
        {
          "output_type": "execute_result",
          "data": {
            "text/plain": [
              "(25, 2)"
            ]
          },
          "metadata": {
            "tags": []
          },
          "execution_count": 3
        }
      ]
    },
    {
      "cell_type": "code",
      "metadata": {
        "colab": {
          "base_uri": "https://localhost:8080/"
        },
        "id": "TmNmpnVYmfmj",
        "outputId": "b22a53ed-d127-4b03-945f-b927db1e71cf"
      },
      "source": [
        "#Checking the summary of data\n",
        "data_score.info()"
      ],
      "execution_count": null,
      "outputs": [
        {
          "output_type": "stream",
          "text": [
            "<class 'pandas.core.frame.DataFrame'>\n",
            "RangeIndex: 25 entries, 0 to 24\n",
            "Data columns (total 2 columns):\n",
            " #   Column  Non-Null Count  Dtype  \n",
            "---  ------  --------------  -----  \n",
            " 0   Hours   25 non-null     float64\n",
            " 1   Scores  25 non-null     int64  \n",
            "dtypes: float64(1), int64(1)\n",
            "memory usage: 528.0 bytes\n"
          ],
          "name": "stdout"
        }
      ]
    },
    {
      "cell_type": "markdown",
      "metadata": {
        "id": "G7wG15QtpHUR"
      },
      "source": [
        "## 2. Visualising the Data"
      ]
    },
    {
      "cell_type": "markdown",
      "metadata": {
        "id": "AbkHkq8Km2Yg"
      },
      "source": [
        "**Let's plot scatter plot to check the relationship between the independent and dependent variable**"
      ]
    },
    {
      "cell_type": "code",
      "metadata": {
        "colab": {
          "base_uri": "https://localhost:8080/",
          "height": 295
        },
        "id": "G4jOySk6mq23",
        "outputId": "11b4a8dc-13db-4e78-8dfd-ebe48dc2569f"
      },
      "source": [
        "# PLotting scatterplot\n",
        "sns.scatterplot(x = 'Hours', y = 'Scores' , data = data_score)\n",
        "plt.title('Hours vs Score')  \n",
        "plt.xlabel('Hours Studied')  \n",
        "plt.ylabel('Score')  \n",
        "plt.show()"
      ],
      "execution_count": null,
      "outputs": [
        {
          "output_type": "display_data",
          "data": {
            "image/png": "[encoded data removed]",
            "text/plain": [
              "<Figure size 432x288 with 1 Axes>"
            ]
          },
          "metadata": {
            "tags": [],
            "needs_background": "light"
          }
        }
      ]
    },
    {
      "cell_type": "markdown",
      "metadata": {
        "id": "tBh9bVvlp5ol"
      },
      "source": [
        "From above chart, we can say that there is a positive linear relationship between dependent and independent variable."
      ]
    },
    {
      "cell_type": "markdown",
      "metadata": {
        "id": "DULxho_MKWIo"
      },
      "source": [
        "## 3. Performing Simple Linear Regression using Statsmodels"
      ]
    },
    {
      "cell_type": "markdown",
      "metadata": {
        "id": "JUauUTuDpkpK"
      },
      "source": [
        ">- Importing required libraries for the modelling\n"
      ]
    },
    {
      "cell_type": "code",
      "metadata": {
        "id": "4QbB8yZ7nfk_"
      },
      "source": [
        "#Importing required libraries for the modelling\n",
        "from sklearn.model_selection import train_test_split   # to split the dataframe\n",
        "import statsmodels.api as sm                           # Statsmodel library\n",
        "from sklearn.metrics import mean_squared_error          # metric for evaluation\n",
        "from sklearn.metrics import r2_score"
      ],
      "execution_count": null,
      "outputs": []
    },
    {
      "cell_type": "code",
      "metadata": {
        "id": "AvJZI8OZJ_ip"
      },
      "source": [
        "#Assigning X and y\n",
        "X = data_score['Hours']\n",
        "y = data_score['Scores']"
      ],
      "execution_count": null,
      "outputs": []
    },
    {
      "cell_type": "code",
      "metadata": {
        "id": "QeWi-GDYKRRH"
      },
      "source": [
        "# Splitting the data set into train and test sets using scikit library\n",
        "X_train, X_test, y_train, y_test = train_test_split(X, y, train_size = 0.7, test_size = 0.3, random_state = 100)\n"
      ],
      "execution_count": null,
      "outputs": []
    },
    {
      "cell_type": "markdown",
      "metadata": {
        "id": "z_cQM2K_K9zh"
      },
      "source": [
        "> #### 3.1 Building a Linear Model"
      ]
    },
    {
      "cell_type": "code",
      "metadata": {
        "id": "jRaX1Rq7K5w3"
      },
      "source": [
        "#Adding a constant to get an intercept \n",
        "X_train_sm = sm.add_constant(X_train)\n",
        "\n",
        "#Fit the regression line using 'OLS'\n",
        "lr = sm.OLS(y_train , X_train_sm).fit()\n"
      ],
      "execution_count": null,
      "outputs": []
    },
    {
      "cell_type": "code",
      "metadata": {
        "colab": {
          "base_uri": "https://localhost:8080/"
        },
        "id": "nQny9FyqLfoK",
        "outputId": "cc75b808-c2d8-4e1d-cdb5-92759af7ab9b"
      },
      "source": [
        "# Performing a summary operation lists out all the different parameters of the regression line fitted\n",
        "print( lr.summary() )"
      ],
      "execution_count": null,
      "outputs": [
        {
          "output_type": "stream",
          "text": [
            "                            OLS Regression Results                            \n",
            "==============================================================================\n",
            "Dep. Variable:                 Scores   R-squared:                       0.957\n",
            "Model:                            OLS   Adj. R-squared:                  0.954\n",
            "Method:                 Least Squares   F-statistic:                     334.4\n",
            "Date:                Sun, 02 May 2021   Prob (F-statistic):           1.15e-11\n",
            "Time:                        18:21:46   Log-Likelihood:                -53.270\n",
            "No. Observations:                  17   AIC:                             110.5\n",
            "Df Residuals:                      15   BIC:                             112.2\n",
            "Df Model:                           1                                         \n",
            "Covariance Type:            nonrobust                                         \n",
            "==============================================================================\n",
            "                 coef    std err          t      P>|t|      [0.025      0.975]\n",
            "------------------------------------------------------------------------------\n",
            "const          1.4951      3.169      0.472      0.644      -5.260       8.250\n",
            "Hours          9.8717      0.540     18.288      0.000       8.721      11.022\n",
            "==============================================================================\n",
            "Omnibus:                        4.576   Durbin-Watson:                   1.929\n",
            "Prob(Omnibus):                  0.101   Jarque-Bera (JB):                1.488\n",
            "Skew:                          -0.198   Prob(JB):                        0.475\n",
            "Kurtosis:                       1.606   Cond. No.                         13.3\n",
            "==============================================================================\n",
            "\n",
            "Warnings:\n",
            "[1] Standard Errors assume that the covariance matrix of the errors is correctly specified.\n"
          ],
          "name": "stdout"
        }
      ]
    },
    {
      "cell_type": "markdown",
      "metadata": {
        "id": "o7pMWGprp-8G"
      },
      "source": [
        "<br>\n",
        "\n",
        "The values we are concerned with are -\n",
        "\n",
        "The coefficients and significance (p-values)\n",
        "R-squared\n",
        "F statistic and its significance\n",
        "1. The coefficient for Hours is 9.87, with a very low p value.<br>\n",
        "The coefficient is statistically significant. So the association is not purely by chance.\n",
        "\n",
        "2. R - squared is 0.957\n",
        "Meaning that 95.7% of the variance in Scores is explained by Hours.\n",
        "\n",
        "This is a decent R-squared value.\n",
        "\n",
        "3. F statistic has a very low p value (practically low)<br>\n",
        "\n",
        "Meaning that the model fit is statistically significant, and the explained variance isn't purely by chance.\n",
        "\n",
        "From the parameters that we get, our linear regression equation becomes:\n",
        "\n",
        "__Scores = 1.49 + 9.87 × TV__"
      ]
    },
    {
      "cell_type": "markdown",
      "metadata": {
        "id": "g6wcmx-broLU"
      },
      "source": [
        " > #### 3.2 Visualize how well the model fit the data."
      ]
    },
    {
      "cell_type": "code",
      "metadata": {
        "colab": {
          "base_uri": "https://localhost:8080/",
          "height": 295
        },
        "id": "eZnjQk3oL2Fx",
        "outputId": "939399cf-bd91-428c-bab6-62ebe17995c6"
      },
      "source": [
        "# Plotting the regression line\n",
        "plt.scatter(X_train, y_train)\n",
        "plt.plot(X_train, 1.49 + 9.87*X_train, 'r')\n",
        "plt.title(\"Plot for Regression line\")\n",
        "plt.xlabel('Hours')\n",
        "plt.ylabel(\"Scores\")\n",
        "plt.show()"
      ],
      "execution_count": null,
      "outputs": [
        {
          "output_type": "display_data",
          "data": {
            "image/png": "[encoded data removed]",
            "text/plain": [
              "<Figure size 432x288 with 1 Axes>"
            ]
          },
          "metadata": {
            "tags": [],
            "needs_background": "light"
          }
        }
      ]
    },
    {
      "cell_type": "markdown",
      "metadata": {
        "id": "DUB1SfXyr6SP"
      },
      "source": [
        "- Predicting y_train values using linear regression model"
      ]
    },
    {
      "cell_type": "code",
      "metadata": {
        "id": "P9wdxxIjPXPo"
      },
      "source": [
        "#predicting \n",
        "y_train_pred = lr.predict(X_train_sm)\n"
      ],
      "execution_count": null,
      "outputs": []
    },
    {
      "cell_type": "markdown",
      "metadata": {
        "id": "CrL87Gd7sHBZ"
      },
      "source": [
        "- __Plotting the regression line using predicted values__\n"
      ]
    },
    {
      "cell_type": "code",
      "metadata": {
        "colab": {
          "base_uri": "https://localhost:8080/",
          "height": 295
        },
        "id": "Da9zVZX0Prd2",
        "outputId": "e1ca5e5e-8ecc-404d-98f0-d97b418f6a52"
      },
      "source": [
        "# Plotting the regression line using predicted values\n",
        "plt.scatter(X_train, y_train)\n",
        "plt.plot(X_train, y_train_pred, 'r')\n",
        "plt.title(\"Plot for Regression line\")\n",
        "plt.xlabel('Hours')\n",
        "plt.ylabel(\"Scores\")\n",
        "plt.show()"
      ],
      "execution_count": null,
      "outputs": [
        {
          "output_type": "display_data",
          "data": {
            "image/png": "[encoded data removed]",
            "text/plain": [
              "<Figure size 432x288 with 1 Axes>"
            ]
          },
          "metadata": {
            "tags": [],
            "needs_background": "light"
          }
        }
      ]
    },
    {
      "cell_type": "markdown",
      "metadata": {
        "id": "3WgROg3qRvb1"
      },
      "source": [
        "# 4. Predictions on Test data set\n",
        "\n",
        "\n"
      ]
    },
    {
      "cell_type": "markdown",
      "metadata": {
        "id": "esSeDLPEsU-O"
      },
      "source": [
        "> #### 4.1 Predicting y values for test set"
      ]
    },
    {
      "cell_type": "code",
      "metadata": {
        "id": "haLBH6EFR9tS"
      },
      "source": [
        "#Adding constant to X_test\n",
        "X_test_sm = sm.add_constant(X_test)\n",
        "\n",
        "# Predict the y values corresponding to X_test_sm\n",
        "y_pred = lr.predict(X_test_sm)\n"
      ],
      "execution_count": null,
      "outputs": []
    },
    {
      "cell_type": "markdown",
      "metadata": {
        "id": "XmMrURMksOf8"
      },
      "source": [
        "> #### 4.2 Visualizing regression line for the test data set\n"
      ]
    },
    {
      "cell_type": "code",
      "metadata": {
        "colab": {
          "base_uri": "https://localhost:8080/",
          "height": 265
        },
        "id": "ttsR0ncUSO6C",
        "outputId": "9585b1e9-435a-40a1-fd26-a2b352ca1ef8"
      },
      "source": [
        "#Visualizing regression line for the test data set\n",
        "plt.scatter(X_test, y_test)\n",
        "plt.plot(X_test, y_pred, 'r')\n",
        "plt.show()"
      ],
      "execution_count": null,
      "outputs": [
        {
          "output_type": "display_data",
          "data": {
            "image/png": "[encoded data removed]",
            "text/plain": [
              "<Figure size 432x288 with 1 Axes>"
            ]
          },
          "metadata": {
            "tags": [],
            "needs_background": "light"
          }
        }
      ]
    },
    {
      "cell_type": "markdown",
      "metadata": {
        "id": "Zq1jSQnwsgUk"
      },
      "source": [
        "- __Let's Compare Actual vs Predicted values__"
      ]
    },
    {
      "cell_type": "code",
      "metadata": {
        "colab": {
          "base_uri": "https://localhost:8080/",
          "height": 297
        },
        "id": "D5WfW5JDSbd7",
        "outputId": "e4850508-ad53-4cb5-824b-1a619d17ddd1"
      },
      "source": [
        "# Comparing Actual vs Predicted\n",
        "df = pd.DataFrame({'Actual': y_test, 'Predicted': y_pred})  \n",
        "df "
      ],
      "execution_count": null,
      "outputs": [
        {
          "output_type": "execute_result",
          "data": {
            "text/html": [
              "<div>\n",
              "<style scoped>\n",
              "    .dataframe tbody tr th:only-of-type {\n",
              "        vertical-align: middle;\n",
              "    }\n",
              "\n",
              "    .dataframe tbody tr th {\n",
              "        vertical-align: top;\n",
              "    }\n",
              "\n",
              "    .dataframe thead th {\n",
              "        text-align: right;\n",
              "    }\n",
              "</style>\n",
              "<table border=\"1\" class=\"dataframe\">\n",
              "  <thead>\n",
              "    <tr style=\"text-align: right;\">\n",
              "      <th></th>\n",
              "      <th>Actual</th>\n",
              "      <th>Predicted</th>\n",
              "    </tr>\n",
              "  </thead>\n",
              "  <tbody>\n",
              "    <tr>\n",
              "      <th>9</th>\n",
              "      <td>25</td>\n",
              "      <td>28.148771</td>\n",
              "    </tr>\n",
              "    <tr>\n",
              "      <th>22</th>\n",
              "      <td>35</td>\n",
              "      <td>39.007657</td>\n",
              "    </tr>\n",
              "    <tr>\n",
              "      <th>13</th>\n",
              "      <td>42</td>\n",
              "      <td>34.071800</td>\n",
              "    </tr>\n",
              "    <tr>\n",
              "      <th>11</th>\n",
              "      <td>62</td>\n",
              "      <td>59.738257</td>\n",
              "    </tr>\n",
              "    <tr>\n",
              "      <th>5</th>\n",
              "      <td>20</td>\n",
              "      <td>16.302714</td>\n",
              "    </tr>\n",
              "    <tr>\n",
              "      <th>19</th>\n",
              "      <td>69</td>\n",
              "      <td>74.545829</td>\n",
              "    </tr>\n",
              "    <tr>\n",
              "      <th>23</th>\n",
              "      <td>76</td>\n",
              "      <td>69.609972</td>\n",
              "    </tr>\n",
              "    <tr>\n",
              "      <th>21</th>\n",
              "      <td>54</td>\n",
              "      <td>48.879371</td>\n",
              "    </tr>\n",
              "  </tbody>\n",
              "</table>\n",
              "</div>"
            ],
            "text/plain": [
              "    Actual  Predicted\n",
              "9       25  28.148771\n",
              "22      35  39.007657\n",
              "13      42  34.071800\n",
              "11      62  59.738257\n",
              "5       20  16.302714\n",
              "19      69  74.545829\n",
              "23      76  69.609972\n",
              "21      54  48.879371"
            ]
          },
          "metadata": {
            "tags": []
          },
          "execution_count": 20
        }
      ]
    },
    {
      "cell_type": "markdown",
      "metadata": {
        "id": "PD8zptHeVQZo"
      },
      "source": [
        "# 5. Model Evaluation"
      ]
    },
    {
      "cell_type": "markdown",
      "metadata": {
        "id": "rNyelb3FvI9g"
      },
      "source": [
        "> #### 5.1 Evaluate model using Mean Squared Error"
      ]
    },
    {
      "cell_type": "code",
      "metadata": {
        "colab": {
          "base_uri": "https://localhost:8080/"
        },
        "id": "DTrMkNCSSLFQ",
        "outputId": "e5ae91b1-719b-4fa0-86f3-49d5f9c5e5de"
      },
      "source": [
        "#Returns the mean squared error; we'll take a square root\n",
        "print( \"Mean Squared Error :\" ,np.sqrt(mean_squared_error(y_test, y_pred)))"
      ],
      "execution_count": null,
      "outputs": [
        {
          "output_type": "stream",
          "text": [
            "Mean Squared Error : 5.067387845160845\n"
          ],
          "name": "stdout"
        }
      ]
    },
    {
      "cell_type": "code",
      "metadata": {
        "colab": {
          "base_uri": "https://localhost:8080/"
        },
        "id": "7rqm2uIVUsgR",
        "outputId": "b6a97825-d004-42d7-fbe0-d4a232040bfa"
      },
      "source": [
        "## Mean Absollute Error\n",
        "from sklearn import metrics  \n",
        "print('Mean Absolute Error:', \n",
        "      metrics.mean_absolute_error(y_test, y_pred)) "
      ],
      "execution_count": null,
      "outputs": [
        {
          "output_type": "stream",
          "text": [
            "Mean Absolute Error: 4.762517892332275\n"
          ],
          "name": "stdout"
        }
      ]
    },
    {
      "cell_type": "code",
      "metadata": {
        "id": "x-ntPMt8Va4H"
      },
      "source": [
        ""
      ],
      "execution_count": null,
      "outputs": []
    }
  ]
}